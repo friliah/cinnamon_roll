{
 "cells": [
  {
   "cell_type": "code",
   "execution_count": 53,
   "metadata": {},
   "outputs": [],
   "source": [
    "import Base.length, Base.iterate, Base.isless\n",
    "import Dates\n",
    "\n",
    "import CSV\n",
    "import DataFrames\n",
    "import Pandas\n",
    "import PyCall\n",
    "\n",
    "using Plots\n",
    "\n",
    "@PyCall.pyimport pandas\n",
    "@PyCall.pyimport numpy\n",
    "\n",
    "mutable struct Limit\n",
    "    ts::Dates.Date\n",
    "    price::Float64\n",
    "    volume::Float64\n",
    "end\n",
    "\n",
    "mutable struct Orderbook\n",
    "    bids::Array{Limit, 1}\n",
    "    asks::Array{Limit, 1}\n",
    "end"
   ]
  },
  {
   "cell_type": "code",
   "execution_count": 2,
   "metadata": {},
   "outputs": [],
   "source": [
    "data = CSV.read(\"gdax_ETH-USD.csv\", header=[:ts, :seq, :is_trade, :is_bid, :price, :volume], types=[Union{i, Missing} for i in [Float64, UInt64, Bool, Bool, Float64, Float64]]);\n",
    "sort!(data, (:ts));\n",
    "data[:ts] = Dates.unix2datetime.(data[:ts]);"
   ]
  },
  {
   "cell_type": "code",
   "execution_count": 3,
   "metadata": {},
   "outputs": [],
   "source": [
    "trades = data[data[:is_trade] .== true, :];\n",
    "limit_orders = data[data[:is_trade] .== false, :];"
   ]
  },
  {
   "cell_type": "code",
   "execution_count": 133,
   "metadata": {},
   "outputs": [
    {
     "data": {
      "text/plain": [
       "depth (generic function with 2 methods)"
      ]
     },
     "execution_count": 133,
     "metadata": {},
     "output_type": "execute_result"
    }
   ],
   "source": [
    "function create_orderbook(df::DataFrames.DataFrame, cb::Union{Function, Nothing}=nothing,\n",
    "                          mut_vector::Union{Any, Nothing}=nothing)::Orderbook\n",
    "    # Takes in a dataframe with orderbook information.\n",
    "    # Orderbook information is contained as book deltas with the following headers:\n",
    "    #     :ts, :seq, :is_trade, :is_bid, :price, :volume\n",
    "    #\n",
    "    # Trades will be skipped over.\n",
    "    \n",
    "    bids = Limit[Limit(Dates.unix2datetime(0), 0.0, 0.0)]\n",
    "    asks = Limit[Limit(Dates.unix2datetime(0), 0.0, 0.0)]\n",
    "        \n",
    "    for order in DataFrames.eachrow(df[df[:is_trade] .== false, :])\n",
    "        # Determine where to insert the order in the bids/asks vector\n",
    "        if order[:is_bid]\n",
    "            # If we have no elements, we will not be able to reach any\n",
    "            # of the logic in the upcoming for loop. Fix it by inserting\n",
    "            # a dummy value into the vector       \n",
    "            for (index, level) in enumerate(bids)\n",
    "                if level.price == order[:price]\n",
    "                    if order[:volume] == 0.0\n",
    "                        # Delete the level if we have a zero sized order\n",
    "                        deleteat!(bids, index)\n",
    "                        \n",
    "                        # Run callback if we have one\n",
    "                        if cb != nothing && length(bids) > 1 && length(asks) > 1\n",
    "                            cb(Orderbook(bids[1:length(bids)-1], reverse(asks)[2:length(asks)]), mut_vector)\n",
    "                        end\n",
    "                        \n",
    "                        break\n",
    "                    end\n",
    "                    # Update the level if we have a duplicate price level\n",
    "                    bids[index] = Limit(order[:ts], order[:price], order[:volume])\n",
    "                    \n",
    "                    # Run callback if we have one\n",
    "                    if cb != nothing && length(bids) > 1 && length(asks) > 1\n",
    "                        cb(Orderbook(bids[1:length(bids)-1], reverse(asks)[2:length(asks)]), mut_vector)\n",
    "                    end\n",
    "                    \n",
    "                    break\n",
    "                elseif order[:price] > level.price\n",
    "                    # Don't add if the size is 0\n",
    "                    if order[:volume] == 0.0\n",
    "                        break\n",
    "                    end\n",
    "                    # For missing orders\n",
    "                    # Insert one level above encountered price\n",
    "                    insert!(bids, index, Limit(order[:ts], order[:price], order[:volume]))\n",
    "                    \n",
    "                    # Run callback if we have one\n",
    "                    if cb != nothing && length(bids) > 1 && length(asks) > 1\n",
    "                        cb(Orderbook(bids[1:length(bids)-1], reverse(asks)[2:length(asks)]), mut_vector)\n",
    "                    end\n",
    "                    \n",
    "                    break\n",
    "                end\n",
    "            end\n",
    "        else\n",
    "            # If we have no elements, we will not be able to reach any\n",
    "            # of the logic in the upcoming for loop. Fix it by inserting\n",
    "            # a first value into the vector\n",
    "            for (index, level) in enumerate(asks)\n",
    "                if level.price == order[:price]\n",
    "                    if order[:volume] == 0.0\n",
    "                        # Delete the level if we have a zero sized order\n",
    "                        deleteat!(asks, index)\n",
    "                        \n",
    "                        # Run callback if we have one\n",
    "                        if cb != nothing && length(bids) > 1 && length(asks) > 1\n",
    "                            cb(Orderbook(bids[1:length(bids)-1], reverse(asks)[2:length(asks)]), mut_vector)\n",
    "                        end\n",
    "                        \n",
    "                        break\n",
    "                    end\n",
    "                    # Update the level if we have a duplicate price level\n",
    "                    asks[index] = Limit(order[:ts], order[:price], order[:volume])\n",
    "                    \n",
    "                    # Run callback if we have one\n",
    "                    if cb != nothing && length(bids) > 1 && length(asks) > 1\n",
    "                        cb(Orderbook(bids[1:length(bids)-1], reverse(asks)[2:length(asks)]), mut_vector)\n",
    "                    end\n",
    "                    \n",
    "                    break\n",
    "                    \n",
    "                elseif order[:price] > level.price\n",
    "                    # Don't add if the size is 0\n",
    "                    if order[:volume] == 0.0\n",
    "                        break\n",
    "                    end\n",
    "                    # For missing orders\n",
    "                    # Insert one level above encountered price\n",
    "                    insert!(asks, index, Limit(order[:ts], order[:price], order[:volume]))\n",
    "                    \n",
    "                    # Run callback if we have one\n",
    "                    if cb != nothing && length(bids) > 1 && length(asks) > 1\n",
    "                        cb(Orderbook(bids[1:length(bids)-1], reverse(asks)[2:length(asks)]), mut_vector)\n",
    "                    end\n",
    "                    \n",
    "                    break\n",
    "                end\n",
    "            end\n",
    "        end\n",
    "    end\n",
    "    \n",
    "    return Orderbook(bids[1:length(bids)-1], reverse(asks)[2:length(asks)])\n",
    "end\n",
    "\n",
    "@inline function spread(book::Orderbook, mut_vector::Array{Float64, 1})\n",
    "    push!(mut_vector, book.asks[1].price - book.bids[1].price)\n",
    "end\n",
    "\n",
    "@inline function depth(book::Orderbook, mut_vector::Array{Any})\n",
    "    push!(mut_vector, [\n",
    "            [[level.price level.volume] for level in book.bids],\n",
    "            [[level.price level.volume] for level in book.asks],\n",
    "    ])\n",
    "end"
   ]
  },
  {
   "cell_type": "code",
   "execution_count": 101,
   "metadata": {},
   "outputs": [],
   "source": [
    "book = create_orderbook(limit_orders);"
   ]
  },
  {
   "cell_type": "code",
   "execution_count": 134,
   "metadata": {},
   "outputs": [
    {
     "ename": "MethodError",
     "evalue": "MethodError: no method matching depth(::Orderbook, ::Array{Array{Array{Float64,2},1},1})\nClosest candidates are:\n  depth(::Orderbook, !Matched::Array{Array{Array{Float64,2},N} where N,N} where N) at In[113]:112\n  depth(::Orderbook, !Matched::Array{Any,N} where N) at In[133]:112",
     "output_type": "error",
     "traceback": [
      "MethodError: no method matching depth(::Orderbook, ::Array{Array{Array{Float64,2},1},1})\nClosest candidates are:\n  depth(::Orderbook, !Matched::Array{Array{Array{Float64,2},N} where N,N} where N) at In[113]:112\n  depth(::Orderbook, !Matched::Array{Any,N} where N) at In[133]:112",
      "",
      "Stacktrace:",
      " [1] create_orderbook(::DataFrames.DataFrame, ::typeof(depth), ::Array{Array{Array{Float64,2},1},1}) at ./In[133]:51",
      " [2] top-level scope at In[134]:2"
     ]
    }
   ],
   "source": [
    "a = []\n",
    "\n",
    "book = create_orderbook(limit_orders, depth, a);"
   ]
  },
  {
   "cell_type": "code",
   "execution_count": 137,
   "metadata": {},
   "outputs": [
    {
     "data": {
      "text/plain": [
       "1-element Array{Any,1}:\n",
       " Array{Array{Float64,2},1}[[[211.17 188.462], [211.08 0.03], [211.0 35.0175], [210.99 20.0], [210.98 10.2195], [210.26 10.1], [208.07 1.38961], [207.37 1.0], [207.07 2.89757]], [[211.18 144.884], [211.29 32.433], [211.32 2.0], [211.34 21.0492], [211.35 1.93], [211.4 24.0983], [211.5 32.1076], [211.78 63.55], [211.79 52.01], [211.8 51.96]  …  [215.46 8.13259], [215.57 41.2116], [215.68 107.429], [215.79 5.0129], [215.9 11.8597], [216.01 13.87], [216.12 18.5626], [216.23 15.9933], [216.34 8.11054], [216.45 4.09748]]]"
      ]
     },
     "execution_count": 137,
     "metadata": {},
     "output_type": "execute_result"
    }
   ],
   "source": [
    "dp = depth(book, [])"
   ]
  },
  {
   "cell_type": "code",
   "execution_count": 139,
   "metadata": {},
   "outputs": [
    {
     "data": {
      "text/plain": [
       "2-element Array{Array{Array{Float64,2},1},1}:\n",
       " [[211.17 188.462], [211.08 0.03], [211.0 35.0175], [210.99 20.0], [210.98 10.2195], [210.26 10.1], [208.07 1.38961], [207.37 1.0], [207.07 2.89757]]                                                                                                                                                                                                  \n",
       " [[211.18 144.884], [211.29 32.433], [211.32 2.0], [211.34 21.0492], [211.35 1.93], [211.4 24.0983], [211.5 32.1076], [211.78 63.55], [211.79 52.01], [211.8 51.96]  …  [215.46 8.13259], [215.57 41.2116], [215.68 107.429], [215.79 5.0129], [215.9 11.8597], [216.01 13.87], [216.12 18.5626], [216.23 15.9933], [216.34 8.11054], [216.45 4.09748]]"
      ]
     },
     "execution_count": 139,
     "metadata": {},
     "output_type": "execute_result"
    }
   ],
   "source": [
    "dp[2"
   ]
  },
  {
   "cell_type": "code",
   "execution_count": 14,
   "metadata": {},
   "outputs": [
    {
     "data": {
      "text/plain": [
       "false"
      ]
     },
     "execution_count": 14,
     "metadata": {},
     "output_type": "execute_result"
    }
   ],
   "source": [
    "false || false"
   ]
  },
  {
   "cell_type": "code",
   "execution_count": null,
   "metadata": {},
   "outputs": [],
   "source": []
  }
 ],
 "metadata": {
  "kernelspec": {
   "display_name": "Julia 1.0.1",
   "language": "julia",
   "name": "julia-1.0"
  },
  "language_info": {
   "file_extension": ".jl",
   "mimetype": "application/julia",
   "name": "julia",
   "version": "1.0.1"
  }
 },
 "nbformat": 4,
 "nbformat_minor": 2
}
